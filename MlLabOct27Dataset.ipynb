{
  "nbformat": 4,
  "nbformat_minor": 0,
  "metadata": {
    "colab": {
      "provenance": [],
      "collapsed_sections": []
    },
    "kernelspec": {
      "name": "python3",
      "display_name": "Python 3"
    },
    "language_info": {
      "name": "python"
    }
  },
  "cells": [
    {
      "cell_type": "markdown",
      "source": [
        "[dataset Link](https://data.gov.in/resource/state-level-consumer-price-index-ruralurban-upto-may-2022) : state-level-consumer-price-index-ruralurban-upto-may-2022"
      ],
      "metadata": {
        "id": "NbJN1Kdk4Bln"
      }
    },
    {
      "cell_type": "code",
      "execution_count": 19,
      "metadata": {
        "id": "XM_gYdGRD_Vy",
        "colab": {
          "base_uri": "https://localhost:8080/"
        },
        "outputId": "49f219b1-8273-4154-d00f-18bd5dcfcade"
      },
      "outputs": [
        {
          "output_type": "stream",
          "name": "stdout",
          "text": [
            "          Sector  Year      Name  Karnataka  Madhya Pradesh  Mizoram  \\\n",
            "0          Rural  2011   January      104.0           104.0    104.0   \n",
            "1          Urban  2011   January      104.0           103.0    104.0   \n",
            "2    Rural+Urban  2011   January      104.0           104.0    104.0   \n",
            "3          Rural  2011  February      106.0           105.0    106.0   \n",
            "4          Urban  2011  February      108.0           106.0    109.0   \n",
            "..           ...   ...       ...        ...             ...      ...   \n",
            "403        Urban  2022     April      177.8           172.6    166.5   \n",
            "404  Rural+Urban  2022     April      174.7           171.5    169.4   \n",
            "405        Rural  2022       May      174.5           172.5    175.3   \n",
            "406        Urban  2022       May      180.2           174.9    168.9   \n",
            "407  Rural+Urban  2022       May      177.6           173.5    171.4   \n",
            "\n",
            "     Tamil Nadu  Andaman and Nicobar  \n",
            "0         105.0                105.0  \n",
            "1         104.0                105.0  \n",
            "2         104.0                106.0  \n",
            "3         107.0                105.0  \n",
            "4         108.0                104.0  \n",
            "..          ...                  ...  \n",
            "403       175.0                171.4  \n",
            "404       174.7                178.8  \n",
            "405       177.3                191.5  \n",
            "406       177.4                172.2  \n",
            "407       177.4                181.7  \n",
            "\n",
            "[408 rows x 8 columns]\n"
          ]
        }
      ],
      "source": [
        "import pandas as pd\n",
        "\n",
        "dataframe=pd.read_csv('CPIdata.csv')\n",
        "print(dataframe)"
      ]
    },
    {
      "cell_type": "code",
      "source": [
        "dataframe=dataframe.dropna()"
      ],
      "metadata": {
        "id": "_kv7nMmzG2Mf"
      },
      "execution_count": null,
      "outputs": []
    },
    {
      "cell_type": "code",
      "source": [
        "dataframe.mean()"
      ],
      "metadata": {
        "colab": {
          "base_uri": "https://localhost:8080/"
        },
        "id": "1gZQ6KxrBVOp",
        "outputId": "4036f7a5-fe2b-478e-fa6e-3265a30cbccc"
      },
      "execution_count": 23,
      "outputs": [
        {
          "output_type": "stream",
          "name": "stderr",
          "text": [
            "/usr/local/lib/python3.7/dist-packages/ipykernel_launcher.py:1: FutureWarning: Dropping of nuisance columns in DataFrame reductions (with 'numeric_only=None') is deprecated; in a future version this will raise TypeError.  Select only valid columns before calling the reduction.\n",
            "  \"\"\"Entry point for launching an IPython kernel.\n"
          ]
        },
        {
          "output_type": "execute_result",
          "data": {
            "text/plain": [
              "Year                   2016.090226\n",
              "Karnataka               139.152206\n",
              "Madhya Pradesh          134.760326\n",
              "Mizoram                 133.367218\n",
              "Tamil Nadu              137.912456\n",
              "Andaman and Nicobar     136.288421\n",
              "dtype: float64"
            ]
          },
          "metadata": {},
          "execution_count": 23
        }
      ]
    },
    {
      "cell_type": "code",
      "source": [
        "dataframe.median()"
      ],
      "metadata": {
        "colab": {
          "base_uri": "https://localhost:8080/"
        },
        "id": "5ZrJg8OWBg_F",
        "outputId": "c57b219b-66a8-4df7-956c-24278cb970fa"
      },
      "execution_count": 24,
      "outputs": [
        {
          "output_type": "stream",
          "name": "stderr",
          "text": [
            "/usr/local/lib/python3.7/dist-packages/ipykernel_launcher.py:1: FutureWarning: Dropping of nuisance columns in DataFrame reductions (with 'numeric_only=None') is deprecated; in a future version this will raise TypeError.  Select only valid columns before calling the reduction.\n",
            "  \"\"\"Entry point for launching an IPython kernel.\n"
          ]
        },
        {
          "output_type": "execute_result",
          "data": {
            "text/plain": [
              "Year                   2016.0\n",
              "Karnataka               139.1\n",
              "Madhya Pradesh          133.0\n",
              "Mizoram                 131.9\n",
              "Tamil Nadu              137.9\n",
              "Andaman and Nicobar     133.3\n",
              "dtype: float64"
            ]
          },
          "metadata": {},
          "execution_count": 24
        }
      ]
    },
    {
      "cell_type": "code",
      "source": [
        "#Mode\n",
        "from collections import Counter\n",
        "\n",
        "for col in dataframe:\n",
        "  print(col, end=\"\\t\")\n",
        "  c = Counter(dataframe[col])\n",
        "  print(c.most_common(1)[0])"
      ],
      "metadata": {
        "colab": {
          "base_uri": "https://localhost:8080/"
        },
        "id": "11urrqyzCFv3",
        "outputId": "43e2701c-70d7-4389-f46b-a7a2f8dbe733"
      },
      "execution_count": 25,
      "outputs": [
        {
          "output_type": "stream",
          "name": "stdout",
          "text": [
            "Sector\t('Rural', 133)\n",
            "Year\t(2011, 36)\n",
            "Name\t('January', 36)\n",
            "Karnataka\t(140.6, 5)\n",
            "Madhya Pradesh\t(126.1, 5)\n",
            "Mizoram\t(128.0, 5)\n",
            "Tamil Nadu\t(172.2, 5)\n",
            "Andaman and Nicobar\t(126.1, 5)\n"
          ]
        }
      ]
    },
    {
      "cell_type": "code",
      "source": [
        "dataframe.boxplot(column=list(dataframe.columns[3:]))"
      ],
      "metadata": {
        "colab": {
          "base_uri": "https://localhost:8080/",
          "height": 286
        },
        "id": "ha02fUCfDFRk",
        "outputId": "f5aecfb5-fa1b-4f1a-fbec-2a2a7fe8fb1e"
      },
      "execution_count": 26,
      "outputs": [
        {
          "output_type": "execute_result",
          "data": {
            "text/plain": [
              "<matplotlib.axes._subplots.AxesSubplot at 0x7f64a706ffd0>"
            ]
          },
          "metadata": {},
          "execution_count": 26
        },
        {
          "output_type": "display_data",
          "data": {
            "text/plain": [
              "<Figure size 432x288 with 1 Axes>"
            ],
            "image/png": "[encoded data removed]"
          },
          "metadata": {
            "needs_background": "light"
          }
        }
      ]
    },
    {
      "cell_type": "code",
      "source": [
        "\n",
        "import numpy as np\n",
        "\n",
        "cols=list(dataframe.columns[3:])\n",
        "\n",
        "for col in cols:\n",
        "  print('\\n')\n",
        "  print(\"Column \", col)\n",
        "  data = dataframe[col]\n",
        "  #print(data)\n",
        "  Q1 = np.percentile(data, 25, interpolation = 'midpoint')\n",
        "  Q3 = np.percentile(data, 75, interpolation = 'midpoint')\n",
        "  IQR = Q3 - Q1\n",
        "  print('Q1 Q3 IQR')\n",
        "  print(Q1,Q3,IQR)\n",
        "  LowerFence = Q1-(1.5*IQR)\n",
        "  UpperFence = Q3+(1.5*IQR)\n",
        "  print(\"Outliers are:\")\n",
        "  for i in data:\n",
        "    if i < LowerFence or i > UpperFence:\n",
        "      print(i)  "
      ],
      "metadata": {
        "colab": {
          "base_uri": "https://localhost:8080/"
        },
        "id": "wpBOVf49ELKl",
        "outputId": "64090b31-4db1-4041-9d94-43c58347e570"
      },
      "execution_count": 30,
      "outputs": [
        {
          "output_type": "stream",
          "name": "stdout",
          "text": [
            "\n",
            "\n",
            "Column  Karnataka\n",
            "Q1 Q3 IQR\n",
            "128.8 149.35000000000002 20.55000000000001\n",
            "Outliers are:\n",
            "6.81\n",
            "180.2\n",
            "\n",
            "\n",
            "Column  Madhya Pradesh\n",
            "Q1 Q3 IQR\n",
            "124.6 143.14999999999998 18.549999999999983\n",
            "Outliers are:\n",
            "182.9\n",
            "3.97\n",
            "172.6\n",
            "171.5\n",
            "172.5\n",
            "174.9\n",
            "173.5\n",
            "\n",
            "\n",
            "Column  Mizoram\n",
            "Q1 Q3 IQR\n",
            "124.0 141.8 17.80000000000001\n",
            "Outliers are:\n",
            "0.1\n",
            "0.13\n",
            "170.3\n",
            "173.1\n",
            "173.7\n",
            "174.0\n",
            "169.4\n",
            "175.3\n",
            "168.9\n",
            "171.4\n",
            "\n",
            "\n",
            "Column  Tamil Nadu\n",
            "Q1 Q3 IQR\n",
            "126.80000000000001 147.2 20.399999999999977\n",
            "Outliers are:\n",
            "9.2\n",
            "\n",
            "\n",
            "Column  Andaman and Nicobar\n",
            "Q1 Q3 IQR\n",
            "120.9 149.45 28.549999999999983\n",
            "Outliers are:\n",
            "0.07\n"
          ]
        }
      ]
    },
    {
      "cell_type": "code",
      "source": [],
      "metadata": {
        "id": "iB-nx76nEvM5"
      },
      "execution_count": null,
      "outputs": []
    }
  ]
}